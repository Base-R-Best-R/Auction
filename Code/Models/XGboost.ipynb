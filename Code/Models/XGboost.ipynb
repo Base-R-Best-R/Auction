{
  "cells": [
    {
      "cell_type": "markdown",
      "metadata": {
        "id": "view-in-github",
        "colab_type": "text"
      },
      "source": [
        "<a href=\"https://colab.research.google.com/github/Base-R-Best-R/Auction/blob/main/Code/Models/XGboost.ipynb\" target=\"_parent\"><img src=\"https://colab.research.google.com/assets/colab-badge.svg\" alt=\"Open In Colab\"/></a>"
      ]
    },
    {
      "cell_type": "code",
      "execution_count": 2,
      "metadata": {
        "id": "yTYSqK3T6r3D"
      },
      "outputs": [],
      "source": [
        "# call R in Python\n",
        "%reload_ext rpy2.ipython"
      ]
    },
    {
      "cell_type": "code",
      "execution_count": 3,
      "metadata": {
        "id": "TqO1MHiJ7HRM",
        "colab": {
          "base_uri": "https://localhost:8080/"
        },
        "outputId": "25bda2b7-f5bc-421a-8f5c-ba48e7d43cde"
      },
      "outputs": [
        {
          "output_type": "stream",
          "name": "stdout",
          "text": [
            "Drive already mounted at /content/drive; to attempt to forcibly remount, call drive.mount(\"/content/drive\", force_remount=True).\n"
          ]
        }
      ],
      "source": [
        "# mount gdrive\n",
        "from google.colab import drive\n",
        "drive.mount('/content/drive')"
      ]
    },
    {
      "cell_type": "code",
      "execution_count": null,
      "metadata": {
        "id": "QadudA2D7RFZ"
      },
      "outputs": [],
      "source": [
        "# R\n",
        "%%R\n",
        "\n",
        "# install and load packages\n",
        "install.packages(c(\"xgboost\"))\n",
        "library(xgboost)"
      ]
    },
    {
      "cell_type": "code",
      "execution_count": 5,
      "metadata": {
        "id": "9d5hlNgo7eA9"
      },
      "outputs": [],
      "source": [
        "# R\n",
        "%%R\n",
        "\n",
        "# load required data \n",
        "dat_aucs_eng <- readRDS(\"drive/MyDrive/Colab Transfer/Aucs_df_feateng_split.RDS\")\n",
        "\n",
        "# rm vars\n",
        "lapply(dat_aucs_eng, \\(x){\n",
        "\n",
        "  # remove\n",
        "  x$Contract_ID <- NULL\n",
        "  x$MLOT <- NULL\n",
        "  x$EW_Diff <- NULL\n",
        "  Label <- x$Winning_Bid / 1e3\n",
        "  x$Winning_Bid <- NULL\n",
        "  x$Eng_Est <- x$Eng_Est /1e3\n",
        "  \n",
        "  # feature model matrix\n",
        "  mod_mat <-  model.matrix(~. + 0, data = x)\n",
        "  \n",
        "  # Label and hot encoded features\n",
        "  list(\"Label\" = Label,\n",
        "       \"Features\" = mod_mat,\n",
        "       \"XGB_Matrix\" = xgb.DMatrix(data = mod_mat, label = Label))\n",
        "  \n",
        "}) -> dat_aucs_mod\n",
        "\n",
        "# tuning grid\n",
        "XGgrid <- expand.grid(\"objective\" = \"reg:squarederror\",\n",
        "                      \"booster\" = \"gbtree\",\n",
        "                      \"eta\" = seq(0.05, 0.25, 0.1), \n",
        "                      \"gamma\" = seq(0.1, 9, 3),\n",
        "                      \"max_depth\" = seq(5, 100, 25),\n",
        "                      \"min_child_weight\" = seq(3, 9, 3),\n",
        "                      \"subsample\" = seq(0.6, 1, 0.3),\n",
        "                      \"colsample_bytree\" = seq(0.6, 1, 0.3),\n",
        "                      \"lambda\" = seq(0.1, 9, 3),\n",
        "                      \"alpha\" = seq(0.1, 9, 3))"
      ]
    },
    {
      "cell_type": "code",
      "execution_count": 6,
      "metadata": {
        "id": "Yloq6SJ77tgp"
      },
      "outputs": [],
      "source": [
        "# R\n",
        "%%R\n",
        "\n",
        "# parameter optimization CV\n",
        "xgb.cv_opt <- \\(nrounds = 1e3, print_every_n = 2e3, nfold = 5, \n",
        "                early_stopping_rounds = 10, maximize = FALSE, metrics = c(\"mae\", \"rmse\"), \n",
        "                verbosity = 0, seed = 33, data, tuning_grid){\n",
        "  \n",
        "  # nmodels\n",
        "  nmod <- nrow(tuning_grid)\n",
        "  \n",
        "  # metric subset vector\n",
        "  sub_pst <- paste0(\"test_\", metrics, \"_mean\")\n",
        "  \n",
        "  # print \n",
        "  cat(paste0(Sys.time(), \", starting CV: \", nmod, \" models to fit!\\n\\n\"))\n",
        "  \n",
        "  # counter\n",
        "  count <- 1\n",
        "  \n",
        "  # over tuning grid rows\n",
        "  apply(tuning_grid, 1, \\(row){\n",
        "    \n",
        "    # parameters to list \n",
        "    param_lst <- as.list(row)\n",
        "    \n",
        "    # seed (s.t. we may compare the different models across the same folds)\n",
        "    set.seed(seed)\n",
        "    \n",
        "    # cv \n",
        "    cv_tmp <- xgb.cv(params = param_lst, nrounds = nrounds, \n",
        "                     nfold = nfold, print_every_n = print_every_n,\n",
        "                     early_stopping_rounds = early_stopping_rounds,\n",
        "                     maximize = maximize, metrics = metrics, verbosity = verbosity,\n",
        "                     data = data)\n",
        "    \n",
        "    # print current State\n",
        "    cat(paste0(count, \"/\", nmod, \" fit!\\n\"))\n",
        "    \n",
        "    # count\n",
        "    count <<- count + 1\n",
        "\n",
        "    # extract best iteration + input parameters\n",
        "    cbind(cv_tmp[[\"evaluation_log\"]][cv_tmp[[\"best_iteration\"]], c(\"iter\", sub_pst), with = FALSE] |> \n",
        "          data.matrix(),\n",
        "          t(data.matrix(row)))\n",
        "    \n",
        "  }) -> tmp\n",
        "  \n",
        "  # rownames\n",
        "  rownames(tmp) <- c(\"iter\", sub_pst, colnames(tuning_grid))\n",
        "  \n",
        "  # return\n",
        "  return(tmp)\n",
        "}"
      ]
    },
    {
      "cell_type": "code",
      "execution_count": null,
      "metadata": {
        "id": "JeFM9ZlO75OC"
      },
      "outputs": [],
      "source": [
        "# R\n",
        "%%R\n",
        "\n",
        "# run \n",
        "res <- xgb.cv_opt(data = dat_aucs_mod[[\"Train\"]][[\"XGB_Matrix\"]], tuning_grid = XGgrid)\n",
        "\n",
        "# save \n",
        "saveRDS(res, \"drive/MyDrive/Master_Thesis/Models_MT/XGBoost_feateng.RDS\")"
      ]
    }
  ],
  "metadata": {
    "colab": {
      "background_execution": "on",
      "name": "XGboost.ipynb",
      "provenance": [],
      "authorship_tag": "ABX9TyPmpItc2fVEJvechKYKdI7K",
      "include_colab_link": true
    },
    "gpuClass": "standard",
    "kernelspec": {
      "display_name": "Python 3",
      "name": "python3"
    },
    "language_info": {
      "name": "python"
    }
  },
  "nbformat": 4,
  "nbformat_minor": 0
}