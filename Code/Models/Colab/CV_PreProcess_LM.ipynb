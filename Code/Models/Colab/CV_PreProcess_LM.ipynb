{
  "cells": [
    {
      "cell_type": "markdown",
      "metadata": {
        "id": "view-in-github",
        "colab_type": "text"
      },
      "source": [
        "<a href=\"https://colab.research.google.com/github/Base-R-Best-R/Auction/blob/main/Code/Models/Colab/CV_PreProcess_LM.ipynb\" target=\"_parent\"><img src=\"https://colab.research.google.com/assets/colab-badge.svg\" alt=\"Open In Colab\"/></a>"
      ]
    },
    {
      "cell_type": "code",
      "execution_count": 1,
      "metadata": {
        "id": "bpNsd1lZ-b8y"
      },
      "outputs": [],
      "source": [
        "# call R in Python\n",
        "%reload_ext rpy2.ipython"
      ]
    },
    {
      "cell_type": "code",
      "execution_count": null,
      "metadata": {
        "id": "SgCoKEfU-87m"
      },
      "outputs": [],
      "source": [
        "# mount gdrive\n",
        "from google.colab import drive\n",
        "drive.mount('/content/drive')"
      ]
    },
    {
      "cell_type": "code",
      "execution_count": null,
      "metadata": {
        "id": "jdxERLh1_Dkv"
      },
      "outputs": [],
      "source": [
        "# R\n",
        "%%R\n",
        "\n",
        "# packages \n",
        "install.packages(c(\"logisticPCA\", \"Metrics\"))\n",
        "library(logisticPCA)\n",
        "library(Metrics)\n",
        "\n",
        "# load required data \n",
        "dat_aucs_eng <- readRDS(\"drive/MyDrive/Colab Transfer/Aucs_df_feateng_split.RDS\")"
      ]
    },
    {
      "cell_type": "code",
      "execution_count": 4,
      "metadata": {
        "id": "VM-SYKpcgdst"
      },
      "outputs": [],
      "source": [
        "# R\n",
        "%%R\n",
        "\n",
        "log_PCA_lm_CV <- \\(data, nfolds = 5, m_nest_CV = seq(1, 13, 2), \n",
        "                   k_desc_CV = seq(2, 20, 2), k_ven_CV = seq(2, 20, 2), \n",
        "                   k_vendInt_CV = seq(2, 20, 2), eval_fun = Metrics::rmse, \n",
        "                   ncore = NULL, seed = 33){\n",
        "  \n",
        "  # rm unwanted cols\n",
        "  within(data,{\n",
        "    Contract_ID <- NULL\n",
        "    MLOT <- NULL\n",
        "    EW_Diff <- NULL\n",
        "    Winning_Bid <- Winning_Bid / 1e3\n",
        "    Eng_Est <- Eng_Est / 1e3\n",
        "  }) -> data\n",
        "  \n",
        "  # bools\n",
        "  vend_cols_log <- names(data) |> stringr::str_detect(\"Vend_\") \n",
        "  interact_cols <- names(data) |> stringr::str_detect(\"_x_\")\n",
        "  descr_words <- which(!vend_cols_log)[-c(1:7)]\n",
        "  Vend_not_int <- vend_cols_log & (!interact_cols)\n",
        "  \n",
        "  # seed\n",
        "  set.seed(seed)\n",
        "\n",
        "  # generate CV folds\n",
        "  folds <- sample(nrow(data), nrow(data), replace = FALSE) |> \n",
        "            split(as.factor(1:nfolds)) |> setNames(1:nfolds) |> suppressWarnings()\n",
        "\n",
        "  # tuning grid init\n",
        "  tgrid_PC <- expand.grid(\"nPCA_Desc\" = k_desc_CV,\n",
        "                          \"nPCA_Vend\" = k_ven_CV,\n",
        "                          \"nPCA_VendInt\" = k_vendInt_CV)\n",
        "  \n",
        "  # set up parallel compute cluster\n",
        "  if(is.null(ncore)){\n",
        "    \n",
        "    # set amount of cores to the max available and leave one out\n",
        "    ncore <- parallel::detectCores() - 1\n",
        "    \n",
        "    # we parallelize over folds - the maximum number of occupied cores should thus be\n",
        "    ncore <- min(ncore, nfolds)\n",
        "    \n",
        "  } else {\n",
        "    \n",
        "    # find min of ncore and folds\n",
        "    ncore <- min(ncore, nfolds)\n",
        "    \n",
        "  }\n",
        "\n",
        "  # set up cluster\n",
        "  clust <- parallel::makeCluster(ncore)\n",
        "\n",
        "  # print cores that will be occupied\n",
        "  warning(paste0(length(clust), \" cores will be occupied by this process!\"))\n",
        "  \n",
        "  # loop over folds each is used as test set once\n",
        "  parallel::parLapply(clust, names(folds), \\(f_ind){\n",
        "    \n",
        "      # test - bool \n",
        "      test_bool <- names(folds) %in% f_ind\n",
        "\n",
        "      # train and test\n",
        "      train <- data[do.call(c, folds[!test_bool]), ]\n",
        "      test <- data[folds[test_bool] |> unlist(), ]\n",
        "      \n",
        "      # separate into desc / Vend / Vend_int\n",
        "      grps <- list(\"Train\" = list(\"Description\" = train[, descr_words], \n",
        "                                  \"Vendor\" = train[, Vend_not_int],\n",
        "                                  \"Vendor_Interaction\" = train[, interact_cols]),\n",
        "                   \"Test\" = list(\"Description\" = test[, descr_words], \n",
        "                                  \"Vendor\" = test[, Vend_not_int],\n",
        "                                  \"Vendor_Interaction\" = test[, interact_cols]))\n",
        "\n",
        "      # nested CV\n",
        "      apply(tgrid_PC, 1, \\(x){\n",
        "\n",
        "        # Over all 3 binary subsets\n",
        "        Map(\\(dat_train, dat_test, kk){\n",
        "\n",
        "          # CV for m of logistic PCA\n",
        "          cv_PCA <- logisticPCA::cv.lpca(dat_train, ms = m_nest_CV, ks = kk)\n",
        "        \n",
        "          # fit\n",
        "          fit_PCA <- logisticPCA::logisticPCA(dat_train, k = kk, \n",
        "                                 m = colnames(cv_PCA)[which.min(cv_PCA)] |> as.numeric())\n",
        "            \n",
        "          # predict \n",
        "          pred_PCA <- predict(fit_PCA, dat_test, type = \"PCs\") # name this (variable importance)\n",
        "          \n",
        "          # return\n",
        "          return(list(\"Fit_PCA\" = fit_PCA,\n",
        "                      \"Pred_PCA\" = pred_PCA))\n",
        "          \n",
        "        }, grps[[\"Train\"]], grps[[\"Test\"]], x) -> fitted_PCs\n",
        "\n",
        "        # assemble PCA dataset\n",
        "        PC_dfs <- Map(\\(tt, PCAtt, bool){\n",
        "    \n",
        "          # bool for supset\n",
        "          if(bool){\n",
        "            \n",
        "            # subset from fit\n",
        "            PCs <- lapply(fitted_PCs, \"[[\", PCAtt) |> lapply(\\(z) as.data.frame(z[[\"PCs\"]])) \n",
        "              \n",
        "          } else {\n",
        "            \n",
        "            PCs <- lapply(fitted_PCs, \\(t) as.data.frame(t[[PCAtt]]))\n",
        "            \n",
        "          }\n",
        "    \n",
        "          # assemble new test and train set\n",
        "          dat <- cbind(tt[1:7], do.call(cbind, PCs))\n",
        "          \n",
        "          # return model matrix\n",
        "          model.matrix(~. + 0, data = dat)\n",
        "\n",
        "        }, list(train, test), \n",
        "        c(\"Fit_PCA\", \"Pred_PCA\"), c(TRUE, FALSE)) |> setNames(c(\"Train\", \"Test\"))\n",
        "\n",
        "        # ind for all vars that are not const. and 0 - aim to remove factors not available in the current fold\n",
        "        ind1 <- apply(PC_dfs[[\"Train\"]], 2, \\(x) any(x != 0))\n",
        "        \n",
        "        # identical cols\n",
        "        ind2 <- !duplicated(as.list(PC_dfs[[\"Train\"]] |> as.data.frame()))\n",
        "        \n",
        "        # fin ind\n",
        "        ind <- ind1 & ind2\n",
        "        \n",
        "        # rm\n",
        "        PC_dfs <- lapply(PC_dfs, \\(df) df[, ind] |> as.data.frame())\n",
        "\n",
        "        # fit LM\n",
        "        model <- lm(Winning_Bid ~., data = PC_dfs[[\"Train\"]])\n",
        "        \n",
        "        # predict on testset\n",
        "        pred <- predict(model, PC_dfs[[\"Test\"]])\n",
        "        \n",
        "        # eval res\n",
        "        eval_res <- eval_fun(actual = PC_dfs[[\"Test\"]][, \"Winning_Bid\"], \n",
        "                             predicted = pred)\n",
        "        \n",
        "        # return\n",
        "        return(c(x[1], # nPCA Desc\n",
        "                 x[2], # nPCA Vend\n",
        "                 x[3], # nPCA VendInt\n",
        "                 \"performance\" = eval_res))\n",
        "        \n",
        "    }) \n",
        "  }) |> setNames(1:nfolds) -> tmp\n",
        "  \n",
        "  # release cores \n",
        "  on.exit(parallel::stopCluster(clust), add = TRUE)\n",
        "  \n",
        "  # return\n",
        "  return(tmp)\n",
        "}"
      ]
    },
    {
      "cell_type": "code",
      "execution_count": null,
      "metadata": {
        "colab": {
          "background_save": true
        },
        "id": "FTk3-jaOheWf"
      },
      "outputs": [],
      "source": [
        "# R\n",
        "%%R\n",
        "\n",
        "# run CV \n",
        "# res <- log_PCA_lm_CV(dat_aucs_eng[[\"Train\"]], m_nest_CV = c(8, 10, 12), \n",
        "#                      k_desc_CV = c(5, 10, 20), k_ven_CV = c(5, 10, 20),\n",
        "#                      k_vendInt_CV = c(5, 10, 20), ncore = 2)\n",
        "\n",
        "# save \n",
        "# saveRDS(res, \"drive/MyDrive/Master_Thesis/Models_MT/CV_LM_logPCA.RDS\")"
      ]
    },
    {
      "cell_type": "code",
      "source": [
        "# R\n",
        "%%R\n",
        "\n",
        "# run 2\n",
        "res <- log_PCA_lm_CV(dat_aucs_eng[[\"Train\"]], m_nest_CV = c(8, 10, 12), \n",
        "                    k_desc_CV = c(7, 10, 13), k_ven_CV = c(7, 10, 13),\n",
        "                    k_vendInt_CV = c(2, 5, 8), ncore = 2)\n",
        "\n",
        "# save \n",
        "saveRDS(res, \"drive/MyDrive/Master_Thesis/Models_MT/CV_LM_logPCA_r2.RDS\")"
      ],
      "metadata": {
        "id": "V4IvYOCTshZv"
      },
      "execution_count": null,
      "outputs": []
    },
    {
      "cell_type": "code",
      "execution_count": null,
      "metadata": {
        "id": "USBHa7a1iPrD"
      },
      "outputs": [],
      "source": [
        "# unmount gdrive\n",
        "drive.flush_and_unmount()"
      ]
    }
  ],
  "metadata": {
    "colab": {
      "background_execution": "on",
      "name": "CV_PreProcess_LM.ipynb",
      "provenance": [],
      "authorship_tag": "ABX9TyMno2/te6A2G2R53OOfG5r/",
      "include_colab_link": true
    },
    "gpuClass": "standard",
    "kernelspec": {
      "display_name": "Python 3",
      "name": "python3"
    },
    "language_info": {
      "name": "python"
    }
  },
  "nbformat": 4,
  "nbformat_minor": 0
}