{
  "nbformat": 4,
  "nbformat_minor": 0,
  "metadata": {
    "colab": {
      "name": "RF_Train_Sk.ipynb",
      "provenance": [],
      "collapsed_sections": [],
      "authorship_tag": "ABX9TyP1STzIY/jJM7cZwWv1h+b8",
      "include_colab_link": true
    },
    "kernelspec": {
      "name": "python3",
      "display_name": "Python 3"
    },
    "language_info": {
      "name": "python"
    }
  },
  "cells": [
    {
      "cell_type": "markdown",
      "metadata": {
        "id": "view-in-github",
        "colab_type": "text"
      },
      "source": [
        "<a href=\"https://colab.research.google.com/github/Base-R-Best-R/Auction/blob/main/Code/Models/Colab/RF_Train_Sk.ipynb\" target=\"_parent\"><img src=\"https://colab.research.google.com/assets/colab-badge.svg\" alt=\"Open In Colab\"/></a>"
      ]
    },
    {
      "cell_type": "markdown",
      "source": [
        "# RF in Sklearn"
      ],
      "metadata": {
        "id": "qfm90_rg1AOf"
      }
    },
    {
      "cell_type": "code",
      "execution_count": null,
      "metadata": {
        "id": "65iB_j26xlbx"
      },
      "outputs": [],
      "source": [
        "# Imports\n",
        "import pandas as pd\n",
        "import numpy as np\n",
        "# !pip install pyreadr\n",
        "import pyreadr\n",
        "import sklearn"
      ]
    },
    {
      "cell_type": "code",
      "source": [
        "# Import RDS training Data\n",
        "url = \"https://github.com/Base-R-Best-R/Auction/blob/main/Data/Bid%20Tab%20RDS/Colab%20Transfer/csv/Aucs_df_feateng_train.csv\"\n",
        "dat_train = pd.read_csv(url)\n",
        "dat_train.head()"
      ],
      "metadata": {
        "colab": {
          "base_uri": "https://localhost:8080/",
          "height": 313
        },
        "id": "eiT4AOhr1IHi",
        "outputId": "dae9c8ed-897b-490f-db56-fb11ea47c5d2"
      },
      "execution_count": 11,
      "outputs": [
        {
          "output_type": "stream",
          "name": "stderr",
          "text": [
            "/usr/local/lib/python3.7/dist-packages/IPython/core/interactiveshell.py:2882: FutureWarning: The error_bad_lines argument has been deprecated and will be removed in a future version.\n",
            "\n",
            "\n",
            "  exec(code_obj, self.user_global_ns, self.user_ns)\n",
            "b'Skipping line 28: expected 1 fields, saw 412\\nSkipping line 72: expected 1 fields, saw 2\\nSkipping line 170: expected 1 fields, saw 3\\nSkipping line 184: expected 1 fields, saw 6\\nSkipping line 210: expected 1 fields, saw 4\\nSkipping line 215: expected 1 fields, saw 4\\nSkipping line 220: expected 1 fields, saw 4\\nSkipping line 225: expected 1 fields, saw 4\\nSkipping line 230: expected 1 fields, saw 4\\nSkipping line 236: expected 1 fields, saw 4\\nSkipping line 241: expected 1 fields, saw 4\\nSkipping line 246: expected 1 fields, saw 4\\nSkipping line 251: expected 1 fields, saw 4\\nSkipping line 256: expected 1 fields, saw 4\\nSkipping line 261: expected 1 fields, saw 4\\nSkipping line 266: expected 1 fields, saw 4\\nSkipping line 277: expected 1 fields, saw 3\\nSkipping line 281: expected 1 fields, saw 3\\nSkipping line 289: expected 1 fields, saw 4\\nSkipping line 294: expected 1 fields, saw 4\\nSkipping line 301: expected 1 fields, saw 4\\nSkipping line 306: expected 1 fields, saw 4\\nSkipping line 311: expected 1 fields, saw 4\\nSkipping line 316: expected 1 fields, saw 4\\nSkipping line 321: expected 1 fields, saw 4\\nSkipping line 326: expected 1 fields, saw 4\\nSkipping line 333: expected 1 fields, saw 4\\nSkipping line 338: expected 1 fields, saw 4\\nSkipping line 343: expected 1 fields, saw 4\\nSkipping line 348: expected 1 fields, saw 4\\nSkipping line 353: expected 1 fields, saw 4\\nSkipping line 364: expected 1 fields, saw 3\\nSkipping line 372: expected 1 fields, saw 4\\nSkipping line 377: expected 1 fields, saw 4\\nSkipping line 382: expected 1 fields, saw 4\\nSkipping line 387: expected 1 fields, saw 4\\nSkipping line 392: expected 1 fields, saw 4\\nSkipping line 417: expected 1 fields, saw 2\\nSkipping line 616: expected 1 fields, saw 6\\nSkipping line 617: expected 1 fields, saw 3\\nSkipping line 624: expected 1 fields, saw 6\\nSkipping line 625: expected 1 fields, saw 3\\nSkipping line 716: expected 1 fields, saw 6\\nSkipping line 724: expected 1 fields, saw 6\\nSkipping line 734: expected 1 fields, saw 6\\nSkipping line 762: expected 1 fields, saw 3\\nSkipping line 774: expected 1 fields, saw 3\\nSkipping line 786: expected 1 fields, saw 3\\nSkipping line 798: expected 1 fields, saw 3\\nSkipping line 810: expected 1 fields, saw 3\\nSkipping line 822: expected 1 fields, saw 3\\nSkipping line 834: expected 1 fields, saw 3\\nSkipping line 845: expected 1 fields, saw 3\\nSkipping line 1096: expected 1 fields, saw 7\\nSkipping line 1138: expected 1 fields, saw 2\\nSkipping line 1171: expected 1 fields, saw 2\\nSkipping line 1252: expected 1 fields, saw 2\\nSkipping line 1256: expected 1 fields, saw 2\\nSkipping line 1279: expected 1 fields, saw 8\\nSkipping line 1290: expected 1 fields, saw 2\\nSkipping line 1292: expected 1 fields, saw 2\\nSkipping line 1313: expected 1 fields, saw 2\\nSkipping line 1358: expected 1 fields, saw 2\\nSkipping line 1363: expected 1 fields, saw 3\\nSkipping line 1364: expected 1 fields, saw 3\\nSkipping line 1365: expected 1 fields, saw 3\\nSkipping line 1366: expected 1 fields, saw 3\\nSkipping line 1367: expected 1 fields, saw 3\\nSkipping line 1368: expected 1 fields, saw 3\\nSkipping line 1369: expected 1 fields, saw 3\\nSkipping line 1370: expected 1 fields, saw 3\\nSkipping line 1371: expected 1 fields, saw 3\\nSkipping line 1372: expected 1 fields, saw 3\\nSkipping line 1373: expected 1 fields, saw 3\\n'\n"
          ]
        },
        {
          "output_type": "execute_result",
          "data": {
            "text/plain": [
              "                                     <!DOCTYPE html>\n",
              "0  <html lang=\"en\" data-color-mode=\"auto\" data-li...\n",
              "1                                             <head>\n",
              "2                             <meta charset=\"utf-8\">\n",
              "3    <link rel=\"dns-prefetch\" href=\"https://githu...\n",
              "4    <link rel=\"dns-prefetch\" href=\"https://avata..."
            ],
            "text/html": [
              "\n",
              "  <div id=\"df-bffdb112-23f5-45c4-91e7-4e621ae14295\">\n",
              "    <div class=\"colab-df-container\">\n",
              "      <div>\n",
              "<style scoped>\n",
              "    .dataframe tbody tr th:only-of-type {\n",
              "        vertical-align: middle;\n",
              "    }\n",
              "\n",
              "    .dataframe tbody tr th {\n",
              "        vertical-align: top;\n",
              "    }\n",
              "\n",
              "    .dataframe thead th {\n",
              "        text-align: right;\n",
              "    }\n",
              "</style>\n",
              "<table border=\"1\" class=\"dataframe\">\n",
              "  <thead>\n",
              "    <tr style=\"text-align: right;\">\n",
              "      <th></th>\n",
              "      <th>&lt;!DOCTYPE html&gt;</th>\n",
              "    </tr>\n",
              "  </thead>\n",
              "  <tbody>\n",
              "    <tr>\n",
              "      <th>0</th>\n",
              "      <td>&lt;html lang=\"en\" data-color-mode=\"auto\" data-li...</td>\n",
              "    </tr>\n",
              "    <tr>\n",
              "      <th>1</th>\n",
              "      <td>&lt;head&gt;</td>\n",
              "    </tr>\n",
              "    <tr>\n",
              "      <th>2</th>\n",
              "      <td>&lt;meta charset=\"utf-8\"&gt;</td>\n",
              "    </tr>\n",
              "    <tr>\n",
              "      <th>3</th>\n",
              "      <td>&lt;link rel=\"dns-prefetch\" href=\"https://githu...</td>\n",
              "    </tr>\n",
              "    <tr>\n",
              "      <th>4</th>\n",
              "      <td>&lt;link rel=\"dns-prefetch\" href=\"https://avata...</td>\n",
              "    </tr>\n",
              "  </tbody>\n",
              "</table>\n",
              "</div>\n",
              "      <button class=\"colab-df-convert\" onclick=\"convertToInteractive('df-bffdb112-23f5-45c4-91e7-4e621ae14295')\"\n",
              "              title=\"Convert this dataframe to an interactive table.\"\n",
              "              style=\"display:none;\">\n",
              "        \n",
              "  <svg xmlns=\"http://www.w3.org/2000/svg\" height=\"24px\"viewBox=\"0 0 24 24\"\n",
              "       width=\"24px\">\n",
              "    <path d=\"M0 0h24v24H0V0z\" fill=\"none\"/>\n",
              "    <path d=\"M18.56 5.44l.94 2.06.94-2.06 2.06-.94-2.06-.94-.94-2.06-.94 2.06-2.06.94zm-11 1L8.5 8.5l.94-2.06 2.06-.94-2.06-.94L8.5 2.5l-.94 2.06-2.06.94zm10 10l.94 2.06.94-2.06 2.06-.94-2.06-.94-.94-2.06-.94 2.06-2.06.94z\"/><path d=\"M17.41 7.96l-1.37-1.37c-.4-.4-.92-.59-1.43-.59-.52 0-1.04.2-1.43.59L10.3 9.45l-7.72 7.72c-.78.78-.78 2.05 0 2.83L4 21.41c.39.39.9.59 1.41.59.51 0 1.02-.2 1.41-.59l7.78-7.78 2.81-2.81c.8-.78.8-2.07 0-2.86zM5.41 20L4 18.59l7.72-7.72 1.47 1.35L5.41 20z\"/>\n",
              "  </svg>\n",
              "      </button>\n",
              "      \n",
              "  <style>\n",
              "    .colab-df-container {\n",
              "      display:flex;\n",
              "      flex-wrap:wrap;\n",
              "      gap: 12px;\n",
              "    }\n",
              "\n",
              "    .colab-df-convert {\n",
              "      background-color: #E8F0FE;\n",
              "      border: none;\n",
              "      border-radius: 50%;\n",
              "      cursor: pointer;\n",
              "      display: none;\n",
              "      fill: #1967D2;\n",
              "      height: 32px;\n",
              "      padding: 0 0 0 0;\n",
              "      width: 32px;\n",
              "    }\n",
              "\n",
              "    .colab-df-convert:hover {\n",
              "      background-color: #E2EBFA;\n",
              "      box-shadow: 0px 1px 2px rgba(60, 64, 67, 0.3), 0px 1px 3px 1px rgba(60, 64, 67, 0.15);\n",
              "      fill: #174EA6;\n",
              "    }\n",
              "\n",
              "    [theme=dark] .colab-df-convert {\n",
              "      background-color: #3B4455;\n",
              "      fill: #D2E3FC;\n",
              "    }\n",
              "\n",
              "    [theme=dark] .colab-df-convert:hover {\n",
              "      background-color: #434B5C;\n",
              "      box-shadow: 0px 1px 3px 1px rgba(0, 0, 0, 0.15);\n",
              "      filter: drop-shadow(0px 1px 2px rgba(0, 0, 0, 0.3));\n",
              "      fill: #FFFFFF;\n",
              "    }\n",
              "  </style>\n",
              "\n",
              "      <script>\n",
              "        const buttonEl =\n",
              "          document.querySelector('#df-bffdb112-23f5-45c4-91e7-4e621ae14295 button.colab-df-convert');\n",
              "        buttonEl.style.display =\n",
              "          google.colab.kernel.accessAllowed ? 'block' : 'none';\n",
              "\n",
              "        async function convertToInteractive(key) {\n",
              "          const element = document.querySelector('#df-bffdb112-23f5-45c4-91e7-4e621ae14295');\n",
              "          const dataTable =\n",
              "            await google.colab.kernel.invokeFunction('convertToInteractive',\n",
              "                                                     [key], {});\n",
              "          if (!dataTable) return;\n",
              "\n",
              "          const docLinkHtml = 'Like what you see? Visit the ' +\n",
              "            '<a target=\"_blank\" href=https://colab.research.google.com/notebooks/data_table.ipynb>data table notebook</a>'\n",
              "            + ' to learn more about interactive tables.';\n",
              "          element.innerHTML = '';\n",
              "          dataTable['output_type'] = 'display_data';\n",
              "          await google.colab.output.renderOutput(dataTable, element);\n",
              "          const docLink = document.createElement('div');\n",
              "          docLink.innerHTML = docLinkHtml;\n",
              "          element.appendChild(docLink);\n",
              "        }\n",
              "      </script>\n",
              "    </div>\n",
              "  </div>\n",
              "  "
            ]
          },
          "metadata": {},
          "execution_count": 11
        }
      ]
    }
  ]
}