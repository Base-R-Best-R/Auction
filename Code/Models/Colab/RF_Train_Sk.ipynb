{
  "nbformat": 4,
  "nbformat_minor": 0,
  "metadata": {
    "colab": {
      "name": "RF_Train_Sk.ipynb",
      "provenance": [],
      "collapsed_sections": [],
      "authorship_tag": "ABX9TyPuPHGkHLVT9gOQF0l0mXEI",
      "include_colab_link": true
    },
    "kernelspec": {
      "name": "python3",
      "display_name": "Python 3"
    },
    "language_info": {
      "name": "python"
    }
  },
  "cells": [
    {
      "cell_type": "markdown",
      "metadata": {
        "id": "view-in-github",
        "colab_type": "text"
      },
      "source": [
        "<a href=\"https://colab.research.google.com/github/Base-R-Best-R/Auction/blob/main/Code/Models/Colab/RF_Train_Sk.ipynb\" target=\"_parent\"><img src=\"https://colab.research.google.com/assets/colab-badge.svg\" alt=\"Open In Colab\"/></a>"
      ]
    },
    {
      "cell_type": "markdown",
      "source": [
        "# RF in Sklearn"
      ],
      "metadata": {
        "id": "qfm90_rg1AOf"
      }
    },
    {
      "cell_type": "code",
      "execution_count": 1,
      "metadata": {
        "id": "65iB_j26xlbx",
        "colab": {
          "base_uri": "https://localhost:8080/"
        },
        "outputId": "17a2ba93-5ceb-4e47-81ee-26da7cd97cf5"
      },
      "outputs": [
        {
          "output_type": "stream",
          "name": "stdout",
          "text": [
            "Mounted at /content/drive\n"
          ]
        }
      ],
      "source": [
        "# Imports\n",
        "import pandas as pd\n",
        "import numpy as np\n",
        "import sklearn\n",
        "import pickle\n",
        "from pprint import pprint\n",
        "from sklearn.ensemble import RandomForestRegressor\n",
        "from sklearn.model_selection import GridSearchCV\n",
        "from sklearn.model_selection import RandomizedSearchCV\n",
        "from sklearn.metrics import mean_squared_error\n",
        "\n",
        "\n",
        "# gdrive\n",
        "from google.colab import drive\n",
        "drive.mount(\"/content/drive\")\n",
        "\n",
        "## prel. for reading and writing pickle ##\n",
        "\n",
        "# write\n",
        "def save_object(obj, filename):\n",
        "    with open(filename, \"wb\") as outp:\n",
        "        pickle.dump(obj, outp, pickle.HIGHEST_PROTOCOL)\n",
        "\n",
        "# read\n",
        "def load_object(filename):\n",
        "    with open(filename, \"rb\") as inp:\n",
        "        return pickle.load(inp)"
      ]
    },
    {
      "cell_type": "code",
      "source": [
        "#  file names\n",
        "nom = [\"Aucs_df_feateng_test.csv\", \"Aucs_df_feateng_train.csv\"]\n",
        "df_lst = []\n",
        "\n",
        "for i in range(len(nom)):\n",
        "  df_lst.append(pd.read_csv(\"drive/MyDrive/Master_Thesis/Input_Data/\" + nom[i]))"
      ],
      "metadata": {
        "id": "eiT4AOhr1IHi"
      },
      "execution_count": 6,
      "outputs": []
    },
    {
      "cell_type": "code",
      "source": [
        "## one-hot-encoding ##\n",
        "\n",
        "# storage \n",
        "oh_mats = [np.nan, np.nan]\n",
        "\n",
        "for i, df in enumerate(df_lst):\n",
        "\n",
        "  # year and month to str\n",
        "  df.Letting_Month = \"M\" + df.Letting_Month.astype(\"str\")\n",
        "  df.Letting_Year = \"Y\" + df.Letting_Year.astype(\"str\")\n",
        "  df.Winning_Bid = df.Winning_Bid / 1e3\n",
        "  df.Eng_Est = df.Eng_Est / 1e3\n",
        "\n",
        "  # remove variables that we will not use in our model\n",
        "  df.drop([\"EW_Diff\", \"MLOT\", \"Contract_ID\"], inplace = True, axis = 1)\n",
        "\n",
        "  # one-hot-matrix\n",
        "  oh_mats[i] = pd.get_dummies(df)"
      ],
      "metadata": {
        "id": "VKei9uqHVbDW"
      },
      "execution_count": 7,
      "outputs": []
    },
    {
      "cell_type": "code",
      "source": [
        "## prep model input ##\n",
        "dep = [np.nan, np.nan]\n",
        "feat = [np.nan, np.nan]\n",
        "nom = [np.nan, np.nan]\n",
        "\n",
        "for i, df in enumerate(oh_mats):\n",
        "\n",
        "  # dep. var.\n",
        "  dep[i] = np.array(df.Winning_Bid)\n",
        "\n",
        "  # features rm W_bid\n",
        "  df.drop(\"Winning_Bid\", inplace = True, axis = 1)\n",
        "\n",
        "  # safe column names\n",
        "  nom[i] = list(df.columns)\n",
        "\n",
        "  # to np array\n",
        "  feat[i] = np.array(df)"
      ],
      "metadata": {
        "id": "TSIGw7HAaEqv"
      },
      "execution_count": 8,
      "outputs": []
    },
    {
      "cell_type": "markdown",
      "source": [
        "# Random Forest CV\n"
      ],
      "metadata": {
        "id": "_3CzRagFdYFR"
      }
    },
    {
      "cell_type": "code",
      "source": [
        "## Model ##\n",
        "\n",
        "# set method\n",
        "rf = RandomForestRegressor(random_state = 33)\n",
        "\n",
        "# display possible inputs\n",
        "pprint(rf.get_params())\n",
        "\n",
        "# build tuning grid\n",
        "tgrid = {\n",
        " 'criterion': ['squared_error'],\n",
        " 'max_depth': np.append([int(x) for x in np.linspace(10, 110, num = 11)], 200),\n",
        " 'max_features': np.append([int(x) for x in np.linspace(10, 110, num = 11)], [500, 800, 1000]),\n",
        " 'min_samples_leaf': [1, 2, 4],\n",
        " 'min_samples_split': [2, 5, 10],\n",
        " 'n_estimators': [int(x) for x in np.linspace(start = 200, stop = 2000, num = 10)]\n",
        "}"
      ],
      "metadata": {
        "id": "Y0BN-oB2cnxe"
      },
      "execution_count": null,
      "outputs": []
    },
    {
      "cell_type": "code",
      "source": [
        "# CV settings\n",
        "rf_CV_rand = RandomizedSearchCV(estimator = rf, param_distributions = tgrid, \n",
        "                           n_iter = 200, cv = 5, verbose = 2, random_state = 33, n_jobs = -1)\n",
        "\n",
        "# train\n",
        "rf_CV_rand.fit(feat[1], dep[1])"
      ],
      "metadata": {
        "id": "3nFrqC35BHzD",
        "colab": {
          "base_uri": "https://localhost:8080/"
        },
        "outputId": "9ca0c920-a145-4db5-aaa2-612e21de0898"
      },
      "execution_count": 21,
      "outputs": [
        {
          "output_type": "stream",
          "name": "stdout",
          "text": [
            "Fitting 5 folds for each of 200 candidates, totalling 1000 fits\n"
          ]
        },
        {
          "output_type": "execute_result",
          "data": {
            "text/plain": [
              "RandomizedSearchCV(cv=5, estimator=RandomForestRegressor(random_state=33),\n",
              "                   n_iter=200, n_jobs=-1,\n",
              "                   param_distributions={'criterion': ['squared_error'],\n",
              "                                        'max_depth': array([ 10,  20,  30,  40,  50,  60,  70,  80,  90, 100, 110, 200]),\n",
              "                                        'max_features': array([  10,   20,   30,   40,   50,   60,   70,   80,   90,  100,  110,\n",
              "        500,  800, 1000]),\n",
              "                                        'min_samples_leaf': [1, 2, 4],\n",
              "                                        'min_samples_split': [2, 5, 10],\n",
              "                                        'n_estimators': [200, 400, 600, 800,\n",
              "                                                         1000, 1200, 1400, 1600,\n",
              "                                                         1800, 2000]},\n",
              "                   random_state=33, verbose=2)"
            ]
          },
          "metadata": {},
          "execution_count": 21
        }
      ]
    },
    {
      "cell_type": "code",
      "source": [
        "# view best params\n",
        "print(rf_CV_rand.best_params_)\n",
        "\n",
        "# view best estimate\n",
        "print(rf_CV_rand.best_score_)\n",
        "\n",
        "# save \n",
        "save_object(rf_CV_rand, \"drive/MyDrive/Master_Thesis/Models_MT/RF_CV_rand.pkl\")"
      ],
      "metadata": {
        "id": "5IEAKtimbog5",
        "colab": {
          "base_uri": "https://localhost:8080/"
        },
        "outputId": "a203f89b-a337-403f-ed49-af54af7f1ad6"
      },
      "execution_count": 24,
      "outputs": [
        {
          "output_type": "stream",
          "name": "stdout",
          "text": [
            "{'n_estimators': 200, 'min_samples_split': 2, 'min_samples_leaf': 2, 'max_features': 1000, 'max_depth': 40, 'criterion': 'squared_error'}\n",
            "0.9028404945714119\n"
          ]
        }
      ]
    },
    {
      "cell_type": "code",
      "source": [
        "# unmount gdrive\n",
        "drive.flush_and_unmount()"
      ],
      "metadata": {
        "id": "pi21szNzMcw3"
      },
      "execution_count": 25,
      "outputs": []
    }
  ]
}