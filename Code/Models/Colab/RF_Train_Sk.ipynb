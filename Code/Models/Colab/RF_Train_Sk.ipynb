{
  "nbformat": 4,
  "nbformat_minor": 0,
  "metadata": {
    "colab": {
      "name": "RF_Train_Sk.ipynb",
      "provenance": [],
      "authorship_tag": "ABX9TyN/ybUAJOFtxgH8xrZRJgfL",
      "include_colab_link": true
    },
    "kernelspec": {
      "name": "python3",
      "display_name": "Python 3"
    },
    "language_info": {
      "name": "python"
    }
  },
  "cells": [
    {
      "cell_type": "markdown",
      "metadata": {
        "id": "view-in-github",
        "colab_type": "text"
      },
      "source": [
        "<a href=\"https://colab.research.google.com/github/Base-R-Best-R/Auction/blob/main/Code/Models/Colab/RF_Train_Sk.ipynb\" target=\"_parent\"><img src=\"https://colab.research.google.com/assets/colab-badge.svg\" alt=\"Open In Colab\"/></a>"
      ]
    },
    {
      "cell_type": "markdown",
      "source": [
        "# RF in Sklearn"
      ],
      "metadata": {
        "id": "qfm90_rg1AOf"
      }
    },
    {
      "cell_type": "code",
      "execution_count": 5,
      "metadata": {
        "id": "65iB_j26xlbx"
      },
      "outputs": [],
      "source": [
        "# Imports\n",
        "import pandas as pd\n",
        "import numpy as np\n",
        "# !pip install pyreadr\n",
        "import pyreadr\n",
        "import sklearn"
      ]
    },
    {
      "cell_type": "code",
      "source": [
        "# Import RDS training Data"
      ],
      "metadata": {
        "id": "eiT4AOhr1IHi"
      },
      "execution_count": null,
      "outputs": []
    }
  ]
}