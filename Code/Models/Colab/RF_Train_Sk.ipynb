{
  "nbformat": 4,
  "nbformat_minor": 0,
  "metadata": {
    "colab": {
      "name": "RF_Train_Sk.ipynb",
      "provenance": [],
      "collapsed_sections": [],
      "authorship_tag": "ABX9TyNkjWpR0vWZpGWoOwdpmvXC",
      "include_colab_link": true
    },
    "kernelspec": {
      "name": "python3",
      "display_name": "Python 3"
    },
    "language_info": {
      "name": "python"
    }
  },
  "cells": [
    {
      "cell_type": "markdown",
      "metadata": {
        "id": "view-in-github",
        "colab_type": "text"
      },
      "source": [
        "<a href=\"https://colab.research.google.com/github/Base-R-Best-R/Auction/blob/main/Code/Models/Colab/RF_Train_Sk.ipynb\" target=\"_parent\"><img src=\"https://colab.research.google.com/assets/colab-badge.svg\" alt=\"Open In Colab\"/></a>"
      ]
    },
    {
      "cell_type": "markdown",
      "source": [
        "# RF in Sklearn"
      ],
      "metadata": {
        "id": "qfm90_rg1AOf"
      }
    },
    {
      "cell_type": "code",
      "execution_count": 39,
      "metadata": {
        "id": "65iB_j26xlbx",
        "colab": {
          "base_uri": "https://localhost:8080/"
        },
        "outputId": "619fa9d2-dd1a-4c21-a2f8-4db7c494bb9b"
      },
      "outputs": [
        {
          "output_type": "stream",
          "name": "stdout",
          "text": [
            "Drive already mounted at /content/drive; to attempt to forcibly remount, call drive.mount(\"/content/drive\", force_remount=True).\n"
          ]
        }
      ],
      "source": [
        "# Imports\n",
        "import pandas as pd\n",
        "import numpy as np\n",
        "import sklearn\n",
        "from sklearn.ensemble import RandomForestRegressor\n",
        "\n",
        "# gdrive\n",
        "from google.colab import drive\n",
        "drive.mount('/content/drive')"
      ]
    },
    {
      "cell_type": "code",
      "source": [
        "# Import RDS training Data\n",
        "dat_train = pd.read_csv(\"drive/MyDrive/Master_Thesis/Input_Data/Aucs_df_feateng_train.csv\")\n",
        "\n",
        "# glimpse \n",
        "dat_train.head()"
      ],
      "metadata": {
        "id": "eiT4AOhr1IHi"
      },
      "execution_count": null,
      "outputs": []
    },
    {
      "cell_type": "code",
      "source": [
        "## one-hot-encoding ##\n",
        "\n",
        "# change year and month to str\n",
        "dat_train.Letting_Month = \"M\" + dat_train.Letting_Month.astype(\"str\")\n",
        "dat_train.Letting_Year = \"Y\" + dat_train.Letting_Year.astype(\"str\")\n",
        "\n",
        "# remove variables that we will not use in our model\n",
        "dat_train.drop([\"EW_Diff\", \"MLOT\", \"Contract_ID\"], inplace = True, axis = 1)\n",
        "\n",
        "# one hat matrix\n",
        "feat = pd.get_dummies(dat_train)\n",
        "\n",
        "# glimpse\n",
        "feat.head()"
      ],
      "metadata": {
        "id": "VKei9uqHVbDW"
      },
      "execution_count": null,
      "outputs": []
    },
    {
      "cell_type": "code",
      "source": [
        "## prep model input ##\n",
        "\n",
        "# dep. var.\n",
        "W_bid = np.array(feat.Winning_Bid)\n",
        "\n",
        "# features rm W_bid\n",
        "feat.drop(\"Winning_Bid\", inplace = True, axis = 1)\n",
        "\n",
        "# safe column names\n",
        "feat_list = list(feat.columns)\n",
        "\n",
        "# to np array\n",
        "feat = np.array(feat)"
      ],
      "metadata": {
        "id": "TSIGw7HAaEqv"
      },
      "execution_count": null,
      "outputs": []
    },
    {
      "cell_type": "markdown",
      "source": [
        "# Random Forest CV\n"
      ],
      "metadata": {
        "id": "_3CzRagFdYFR"
      }
    },
    {
      "cell_type": "code",
      "source": [
        "## Model ##\n",
        "\n",
        "# glimpse at amount of vars\n",
        "np.shape(feat)\n",
        "\n",
        "# set method\n",
        "rf = RandomForestRegressor"
      ],
      "metadata": {
        "id": "Y0BN-oB2cnxe"
      },
      "execution_count": 40,
      "outputs": []
    }
  ]
}