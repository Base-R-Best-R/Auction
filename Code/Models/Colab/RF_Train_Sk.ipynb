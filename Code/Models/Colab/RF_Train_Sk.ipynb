{
  "nbformat": 4,
  "nbformat_minor": 0,
  "metadata": {
    "colab": {
      "name": "RF_Train_Sk.ipynb",
      "provenance": [],
      "collapsed_sections": [],
      "authorship_tag": "ABX9TyOE9OReTzT3KCTbgLHo/0B6",
      "include_colab_link": true
    },
    "kernelspec": {
      "name": "python3",
      "display_name": "Python 3"
    },
    "language_info": {
      "name": "python"
    }
  },
  "cells": [
    {
      "cell_type": "markdown",
      "metadata": {
        "id": "view-in-github",
        "colab_type": "text"
      },
      "source": [
        "<a href=\"https://colab.research.google.com/github/Base-R-Best-R/Auction/blob/main/Code/Models/Colab/RF_Train_Sk.ipynb\" target=\"_parent\"><img src=\"https://colab.research.google.com/assets/colab-badge.svg\" alt=\"Open In Colab\"/></a>"
      ]
    },
    {
      "cell_type": "markdown",
      "source": [
        "# RF in Sklearn"
      ],
      "metadata": {
        "id": "qfm90_rg1AOf"
      }
    },
    {
      "cell_type": "code",
      "execution_count": 160,
      "metadata": {
        "id": "65iB_j26xlbx",
        "colab": {
          "base_uri": "https://localhost:8080/"
        },
        "outputId": "e605a951-973d-40da-b758-8769ee94e0c9"
      },
      "outputs": [
        {
          "output_type": "stream",
          "name": "stdout",
          "text": [
            "Mounted at /content/drive\n"
          ]
        }
      ],
      "source": [
        "# Imports\n",
        "import pandas as pd\n",
        "import numpy as np\n",
        "import sklearn\n",
        "import pickle\n",
        "import matplotlib.pyplot as plt\n",
        "import seaborn as sns\n",
        "from pprint import pprint\n",
        "from sklearn.ensemble import RandomForestRegressor\n",
        "from sklearn.model_selection import GridSearchCV\n",
        "from sklearn.model_selection import RandomizedSearchCV\n",
        "from sklearn.feature_selection import SelectFromModel\n",
        "from sklearn.metrics import mean_squared_error\n",
        "\n",
        "\n",
        "# gdrive\n",
        "from google.colab import drive\n",
        "drive.mount(\"/content/drive\")\n",
        "\n",
        "## prel. for reading and writing pickle ##\n",
        "\n",
        "# write\n",
        "def save_object(obj, filename):\n",
        "    with open(filename, \"wb\") as outp:\n",
        "        pickle.dump(obj, outp, pickle.HIGHEST_PROTOCOL)\n",
        "\n",
        "# read\n",
        "def load_object(filename):\n",
        "    with open(filename, \"rb\") as inp:\n",
        "        return pickle.load(inp)"
      ]
    },
    {
      "cell_type": "code",
      "source": [
        "#  file names\n",
        "nom = [\"dat_aucs_feateng.csv\", \"Test_ind.csv\", \"Train_ind.csv\"]\n",
        "df_lst = []\n",
        "\n",
        "for i in range(len(nom)):\n",
        "  df_lst.append(pd.read_csv(\"drive/MyDrive/Colab Transfer/\" + nom[i]))\n",
        "\n",
        "# split\n",
        "df = df_lst[0]"
      ],
      "metadata": {
        "id": "eiT4AOhr1IHi"
      },
      "execution_count": 111,
      "outputs": []
    },
    {
      "cell_type": "code",
      "source": [
        "## one-hot-encoding ##\n",
        "\n",
        "# year and month to str\n",
        "df.Letting_Month = \"M\" + df.Letting_Month.astype(\"str\")\n",
        "df.Letting_Year = \"Y\" + df.Letting_Year.astype(\"str\")\n",
        "df.Winning_Bid = df.Winning_Bid / 1e3\n",
        "df.Eng_Est = df.Eng_Est / 1e3\n",
        "\n",
        "# remove variables that we will not use in our model\n",
        "df.drop([\"EW_Diff\", \"MLOT\", \"Contract_ID\"], inplace = True, axis = 1)\n",
        "\n",
        "# one-hot-matrix\n",
        "oh_mat = pd.get_dummies(df)\n",
        "\n",
        "# remove rowname col\n",
        "oh_mat.drop(columns = oh_mat.columns[0], inplace = True)\n",
        "\n",
        "# remove orig df from import list\n",
        "df_lst.pop(0)\n",
        "\n",
        "# dict\n",
        "store_dct = {\"Test\": np.nan,\n",
        "             \"Train\": np.nan}\n",
        "sk = [\"Test\", \"Train\"]\n",
        "\n",
        "# split into train and test\n",
        "for i, ind in enumerate(df_lst):\n",
        "\n",
        "  store_dct[sk[i]] = oh_mat.iloc[np.array(ind).reshape(-1) - 1]\n"
      ],
      "metadata": {
        "id": "VKei9uqHVbDW"
      },
      "execution_count": 112,
      "outputs": []
    },
    {
      "cell_type": "code",
      "source": [
        "## prep model input ##\n",
        "dep = [np.nan, np.nan]\n",
        "feat = [np.nan, np.nan]\n",
        "nom = [np.nan, np.nan]\n",
        "\n",
        "for i, df in enumerate(store_dct):\n",
        "\n",
        "  # dep. var.\n",
        "  dep[i] = np.array(store_dct[df].Winning_Bid)\n",
        "\n",
        "  # features rm W_bid\n",
        "  store_dct[df] = store_dct[df].drop(\"Winning_Bid\", axis = 1)\n",
        "\n",
        "  # safe column names\n",
        "  nom[i] = list(store_dct[df].columns)\n",
        "\n",
        "  # to np array\n",
        "  feat[i] = np.array(store_dct[df])"
      ],
      "metadata": {
        "id": "TSIGw7HAaEqv"
      },
      "execution_count": 114,
      "outputs": []
    },
    {
      "cell_type": "markdown",
      "source": [
        "# Random Forest CV\n"
      ],
      "metadata": {
        "id": "_3CzRagFdYFR"
      }
    },
    {
      "cell_type": "code",
      "source": [
        "## Model (1 - train, 0 - test)##\n",
        "\n",
        "# set method\n",
        "rf = RandomForestRegressor(random_state = 33)\n",
        "\n",
        "# display possible inputs\n",
        "pprint(rf.get_params())\n",
        "\n",
        "# build tuning grid\n",
        "tgrid = {\n",
        " 'criterion': ['squared_error'],\n",
        " 'max_depth': np.append([int(x) for x in np.linspace(10, 110, num = 11)], 200),\n",
        " 'max_features': np.append([int(x) for x in np.linspace(10, 110, num = 11)], [500, 800, 1000,1100]),\n",
        " 'min_samples_leaf': [1, 2, 4],\n",
        " 'min_samples_split': [2, 5, 10],\n",
        " 'n_estimators': [int(x) for x in np.linspace(start = 200, stop = 2000, num = 10)]\n",
        "}"
      ],
      "metadata": {
        "id": "Y0BN-oB2cnxe"
      },
      "execution_count": null,
      "outputs": []
    },
    {
      "cell_type": "code",
      "source": [
        "# CV settings\n",
        "rf_CV_rand = RandomizedSearchCV(estimator = rf, param_distributions = tgrid, \n",
        "                           n_iter = 200, cv = 5, verbose = 2, random_state = 33, n_jobs = -1)\n",
        "\n",
        "# train\n",
        "rf_CV_rand.fit(feat[1], dep[1])"
      ],
      "metadata": {
        "id": "3nFrqC35BHzD",
        "colab": {
          "base_uri": "https://localhost:8080/"
        },
        "outputId": "474f6161-6dca-48d1-ff44-3e66316633c5"
      },
      "execution_count": 116,
      "outputs": [
        {
          "output_type": "stream",
          "name": "stdout",
          "text": [
            "Fitting 5 folds for each of 200 candidates, totalling 1000 fits\n"
          ]
        },
        {
          "output_type": "execute_result",
          "data": {
            "text/plain": [
              "RandomizedSearchCV(cv=5, estimator=RandomForestRegressor(random_state=33),\n",
              "                   n_iter=200, n_jobs=-1,\n",
              "                   param_distributions={'criterion': ['squared_error'],\n",
              "                                        'max_depth': array([ 10,  20,  30,  40,  50,  60,  70,  80,  90, 100, 110, 200]),\n",
              "                                        'max_features': array([  10,   20,   30,   40,   50,   60,   70,   80,   90,  100,  110,\n",
              "        500,  800, 1000, 1100]),\n",
              "                                        'min_samples_leaf': [1, 2, 4],\n",
              "                                        'min_samples_split': [2, 5, 10],\n",
              "                                        'n_estimators': [200, 400, 600, 800,\n",
              "                                                         1000, 1200, 1400, 1600,\n",
              "                                                         1800, 2000]},\n",
              "                   random_state=33, verbose=2)"
            ]
          },
          "metadata": {},
          "execution_count": 116
        }
      ]
    },
    {
      "cell_type": "code",
      "source": [
        "# view best params\n",
        "print(rf_CV_rand.best_params_)\n",
        "\n",
        "# view best estimate\n",
        "print(rf_CV_rand.best_score_)\n",
        "\n",
        "# save \n",
        "# save_object(rf_CV_rand, \"drive/MyDrive/Master_Thesis/Models_MT/RF_CV_rand.pkl\")"
      ],
      "metadata": {
        "id": "5IEAKtimbog5",
        "colab": {
          "base_uri": "https://localhost:8080/"
        },
        "outputId": "65ab74f1-c33a-4bdc-85a6-a8439d2c1446"
      },
      "execution_count": 119,
      "outputs": [
        {
          "output_type": "stream",
          "name": "stdout",
          "text": [
            "{'n_estimators': 1600, 'min_samples_split': 5, 'min_samples_leaf': 2, 'max_features': 1100, 'max_depth': 20, 'criterion': 'squared_error'}\n",
            "0.9040695589843452\n"
          ]
        }
      ]
    },
    {
      "cell_type": "code",
      "source": [
        "# read back CV object of Rf\n",
        "rf_CV_rand = load_object(\"drive/MyDrive/Master_Thesis/Models_MT/RF_CV_rand.pkl\")\n",
        "\n",
        "# predict\n",
        "w_bid_pred = rf_CV_rand.predict(feat[0])\n",
        "\n",
        "# plot prelim.\n",
        "plot_df = pd.DataFrame({\"Actual\": dep[0],\n",
        "                        \"Predicted\": w_bid_pred,\n",
        "                        \"Engineers Est.\": feat[0][:, 2]})\n",
        "\n",
        "# performance eval.\n",
        "sns.boxplot(data = plot_df[[\"Actual\", \"Predicted\", \"Engineers Est.\"]])\n",
        "\n",
        "# mean squared error\n",
        "print(\"RMSE:\", mean_squared_error(dep[0], w_bid_pred, squared = True))\n",
        "print(\"Dif_Ac_EngEst:\", mean_squared_error(dep[0], plot_df[\"Engineers Est.\"]))"
      ],
      "metadata": {
        "colab": {
          "base_uri": "https://localhost:8080/",
          "height": 320
        },
        "id": "w2SvmJ-hhy-z",
        "outputId": "98b209f0-60ab-4ed4-a888-747529ca2f06"
      },
      "execution_count": 158,
      "outputs": [
        {
          "output_type": "stream",
          "name": "stdout",
          "text": [
            "RMSE: 252502.93567465886\n",
            "Alt_RMSE: 252502.93567465886\n",
            "Dif_Ac_EngEst: 247065.33632427835\n"
          ]
        },
        {
          "output_type": "display_data",
          "data": {
            "text/plain": [
              "<Figure size 432x288 with 1 Axes>"
            ],
            "image/png": "[encoded data removed]"
          },
          "metadata": {
            "needs_background": "light"
          }
        }
      ]
    },
    {
      "cell_type": "markdown",
      "source": [
        "# First Evaluation\n",
        "\n",
        "Given that the training error is significantly lower than the test error, we may suspect that the model in its current state contains too many variables carrying the same information. Accordingly, next we may use feature selection methods to determin the variables we use to refit the model."
      ],
      "metadata": {
        "id": "U3V1RMFklDCP"
      }
    },
    {
      "cell_type": "code",
      "source": [
        "## feature selection ##\n",
        "selecta = SelectFromModel(rf)\n",
        "\n",
        "# fit \n",
        "selecta.fit(feat[1], dep[1])\n",
        "rf.fit(feat[1], dep[1]) # default value for n_estimators (trees) chosen, prob. few trees!\n",
        "\n",
        "# features which importance is greater than the mean importance (we may change the treshold at a later stage)\n",
        "sel_supp = selecta.get_support()\n",
        "\n",
        "# selected features\n",
        "sel_names = store_dct[\"Train\"].columns[sel_supp]\n",
        "print(sel_names)"
      ],
      "metadata": {
        "colab": {
          "base_uri": "https://localhost:8080/"
        },
        "id": "LWhdMheqlco7",
        "outputId": "b433319a-bf93-4d48-e3f4-dca9ad08894a"
      },
      "execution_count": 187,
      "outputs": [
        {
          "output_type": "stream",
          "name": "stdout",
          "text": [
            "Index(['Contract_Time', 'N_Firm', 'Eng_Est', 'Vend_884A', 'Vend_232A',\n",
            "       'Vend_801A', 'Vend_099H', 'overlay', 'pave', 'drainag', 'interst',\n",
            "       'reclam', 'landscap', 'Vend_884A_x_Vend_870A', 'Vend_884A_x_Vend_099H',\n",
            "       'Vend_854A_x_Vend_090A', 'Vend_090A_x_Vend_099H',\n",
            "       'Vend_801A_x_Vend_099H', 'County_ADAMS', 'Letting_Year_Y2018'],\n",
            "      dtype='object')\n"
          ]
        }
      ]
    },
    {
      "cell_type": "code",
      "source": [
        "# unmount gdrive\n",
        "drive.flush_and_unmount()"
      ],
      "metadata": {
        "id": "pi21szNzMcw3"
      },
      "execution_count": 188,
      "outputs": []
    }
  ]
}