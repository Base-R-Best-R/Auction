{
  "nbformat": 4,
  "nbformat_minor": 0,
  "metadata": {
    "colab": {
      "name": "RF_Train_Sk.ipynb",
      "provenance": [],
      "collapsed_sections": [],
      "authorship_tag": "ABX9TyOJ8MX+XrJnWIiZV7xbBLWK",
      "include_colab_link": true
    },
    "kernelspec": {
      "name": "python3",
      "display_name": "Python 3"
    },
    "language_info": {
      "name": "python"
    }
  },
  "cells": [
    {
      "cell_type": "markdown",
      "metadata": {
        "id": "view-in-github",
        "colab_type": "text"
      },
      "source": [
        "<a href=\"https://colab.research.google.com/github/Base-R-Best-R/Auction/blob/main/Code/Models/Colab/RF_Train_Sk.ipynb\" target=\"_parent\"><img src=\"https://colab.research.google.com/assets/colab-badge.svg\" alt=\"Open In Colab\"/></a>"
      ]
    },
    {
      "cell_type": "markdown",
      "source": [
        "# RF in Sklearn"
      ],
      "metadata": {
        "id": "qfm90_rg1AOf"
      }
    },
    {
      "cell_type": "code",
      "execution_count": 66,
      "metadata": {
        "id": "65iB_j26xlbx",
        "colab": {
          "base_uri": "https://localhost:8080/"
        },
        "outputId": "551385e1-5ee9-4eee-ec40-8de86420348b"
      },
      "outputs": [
        {
          "output_type": "stream",
          "name": "stdout",
          "text": [
            "Drive already mounted at /content/drive; to attempt to forcibly remount, call drive.mount(\"/content/drive\", force_remount=True).\n"
          ]
        }
      ],
      "source": [
        "# Imports\n",
        "import pandas as pd\n",
        "import numpy as np\n",
        "import sklearn\n",
        "import pickle\n",
        "from pprint import pprint\n",
        "from sklearn.ensemble import RandomForestRegressor\n",
        "from sklearn.model_selection import GridSearchCV\n",
        "from sklearn.model_selection import RandomizedSearchCV\n",
        "from sklearn.metrics import mean_squared_error\n",
        "\n",
        "\n",
        "# gdrive\n",
        "from google.colab import drive\n",
        "drive.mount(\"/content/drive\")\n",
        "\n",
        "## prel. for reading and writing pickle ##\n",
        "\n",
        "# write\n",
        "def save_object(obj, filename):\n",
        "    with open(filename, \"wb\") as outp:\n",
        "        pickle.dump(obj, outp, pickle.HIGHEST_PROTOCOL)\n",
        "\n",
        "# read\n",
        "def load_object(filename):\n",
        "    with open(filename, \"rb\") as inp:\n",
        "        return pickle.load(inp)"
      ]
    },
    {
      "cell_type": "code",
      "source": [
        "# Import RDS training Data\n",
        "dat_train = pd.read_csv(\"drive/MyDrive/Master_Thesis/Input_Data/Aucs_df_feateng_train.csv\")\n",
        "\n",
        "# glimpse \n",
        "dat_train.head()"
      ],
      "metadata": {
        "id": "eiT4AOhr1IHi"
      },
      "execution_count": null,
      "outputs": []
    },
    {
      "cell_type": "code",
      "source": [
        "## one-hot-encoding ##\n",
        "\n",
        "# change year and month to str\n",
        "dat_train.Letting_Month = \"M\" + dat_train.Letting_Month.astype(\"str\")\n",
        "dat_train.Letting_Year = \"Y\" + dat_train.Letting_Year.astype(\"str\")\n",
        "\n",
        "# remove variables that we will not use in our model\n",
        "dat_train.drop([\"EW_Diff\", \"MLOT\", \"Contract_ID\"], inplace = True, axis = 1)\n",
        "\n",
        "# one hat matrix\n",
        "feat = pd.get_dummies(dat_train)\n",
        "\n",
        "# glimpse\n",
        "feat.head()"
      ],
      "metadata": {
        "id": "VKei9uqHVbDW"
      },
      "execution_count": null,
      "outputs": []
    },
    {
      "cell_type": "code",
      "source": [
        "## prep model input ##\n",
        "\n",
        "# dep. var.\n",
        "W_bid = np.array(feat.Winning_Bid)\n",
        "\n",
        "# features rm W_bid\n",
        "feat.drop(\"Winning_Bid\", inplace = True, axis = 1)\n",
        "\n",
        "# safe column names\n",
        "feat_list = list(feat.columns)\n",
        "\n",
        "# to np array\n",
        "feat = np.array(feat)"
      ],
      "metadata": {
        "id": "TSIGw7HAaEqv"
      },
      "execution_count": 4,
      "outputs": []
    },
    {
      "cell_type": "markdown",
      "source": [
        "# Random Forest CV\n"
      ],
      "metadata": {
        "id": "_3CzRagFdYFR"
      }
    },
    {
      "cell_type": "code",
      "source": [
        "## Model ##\n",
        "\n",
        "# glimpse at amount of vars\n",
        "np.shape(feat)\n",
        "\n",
        "# set method\n",
        "rf = RandomForestRegressor(random_state = 33)\n",
        "\n",
        "# display possible inputs\n",
        "pprint(rf.get_params())\n",
        "\n",
        "# build tuning grid\n",
        "tgrid = {\n",
        " 'criterion': ['squared_error'],\n",
        " 'max_depth': np.append([int(x) for x in np.linspace(10, 110, num = 11)], 200),\n",
        " 'max_features': np.append([int(x) for x in np.linspace(10, 110, num = 11)], [500, 800, 1000, 1500]),\n",
        " 'min_samples_leaf': [1, 2, 4],\n",
        " 'min_samples_split': [2, 5, 10],\n",
        " 'n_estimators': [int(x) for x in np.linspace(start = 200, stop = 2000, num = 10)]\n",
        "}\n",
        "\n",
        "# display tuning grid\n",
        "pprint(tgrid)"
      ],
      "metadata": {
        "id": "Y0BN-oB2cnxe"
      },
      "execution_count": null,
      "outputs": []
    },
    {
      "cell_type": "code",
      "source": [
        "# CV settings\n",
        "rf_CV_rand = RandomizedSearchCV(estimator = rf, param_distributions = tgrid, \n",
        "                           n_iter = 200, cv = 5, verbose = 2, random_state = 33, n_jobs = -1)\n",
        "\n",
        "# train\n",
        "rf_CV_rand.fit(feat, W_bid)"
      ],
      "metadata": {
        "id": "3nFrqC35BHzD"
      },
      "execution_count": null,
      "outputs": []
    },
    {
      "cell_type": "code",
      "source": [
        "# view best params\n",
        "#print(rf_CV_rand.best_params_)\n",
        "\n",
        "# view best estimate\n",
        "#print(rf_CV_rand.best_score_)\n",
        "\n",
        "# save \n",
        "# save_object(rf_CV_rand, \"drive/MyDrive/Master_Thesis/Models_MT/RF_CV_rand.pkl\")"
      ],
      "metadata": {
        "colab": {
          "base_uri": "https://localhost:8080/"
        },
        "id": "5IEAKtimbog5",
        "outputId": "d6a2964e-4924-412d-9cdb-7e427a6c45d4"
      },
      "execution_count": 67,
      "outputs": [
        {
          "output_type": "execute_result",
          "data": {
            "text/plain": [
              "0.8990087017708138"
            ]
          },
          "metadata": {},
          "execution_count": 67
        }
      ]
    }
  ]
}