{
  "nbformat": 4,
  "nbformat_minor": 0,
  "metadata": {
    "colab": {
      "name": "CV_elastic_net.ipynb",
      "provenance": [],
      "collapsed_sections": [],
      "background_execution": "on",
      "authorship_tag": "ABX9TyOq5Td3xmYOYgsw8cL7Aas9",
      "include_colab_link": true
    },
    "kernelspec": {
      "name": "python3",
      "display_name": "Python 3"
    },
    "language_info": {
      "name": "python"
    },
    "gpuClass": "standard"
  },
  "cells": [
    {
      "cell_type": "markdown",
      "metadata": {
        "id": "view-in-github",
        "colab_type": "text"
      },
      "source": [
        "<a href=\"https://colab.research.google.com/github/Base-R-Best-R/Auction/blob/main/Code/Models/Colab/CV_elastic_net.ipynb\" target=\"_parent\"><img src=\"https://colab.research.google.com/assets/colab-badge.svg\" alt=\"Open In Colab\"/></a>"
      ]
    },
    {
      "cell_type": "code",
      "execution_count": 1,
      "metadata": {
        "id": "9tb0iHsGiwId"
      },
      "outputs": [],
      "source": [
        "# call R in Python\n",
        "%reload_ext rpy2.ipython"
      ]
    },
    {
      "cell_type": "code",
      "source": [
        "# mount gdrive\n",
        "from google.colab import drive\n",
        "drive.mount('/content/drive')"
      ],
      "metadata": {
        "id": "t-mhVku8i_sT"
      },
      "execution_count": null,
      "outputs": []
    },
    {
      "cell_type": "code",
      "source": [
        "# R\n",
        "%%R\n",
        "\n",
        "# packages \n",
        "install.packages(c(\"glmnet\", \"glmnetUtils\", \"Metrics\"))\n",
        "library(glmnet)\n",
        "library(glmnetUtils)\n",
        "library(Metrics)\n",
        "\n",
        "# load required data \n",
        "dat_aucs_eng <- readRDS(\"drive/MyDrive/Colab Transfer/Aucs_df_feateng_split.RDS\")\n",
        "\n",
        "# data transformations\n",
        "lapply(dat_aucs_eng, \\(df){\n",
        "  \n",
        "  within(df, {\n",
        "    \n",
        "    Contract_ID <- NULL\n",
        "    MLOT <- NULL\n",
        "    EW_Diff <- NULL\n",
        "    Winning_Bid <- Winning_Bid / 1e3\n",
        "    Eng_Est <- Eng_Est / 1e3\n",
        "    \n",
        "  })\n",
        "  \n",
        "}) |> setNames(c(\"Train\", \"Test\")) -> dat_aucs_mod"
      ],
      "metadata": {
        "id": "pffVqfqtjEsA"
      },
      "execution_count": null,
      "outputs": []
    },
    {
      "cell_type": "code",
      "source": [
        "#R\n",
        "%%R\n",
        "\n",
        "# CV glmnet paralell CV over link functions\n",
        "CV_disglmnet <- \\(formula, data, families, type_measure = \"mse\", nfolds = 5, \n",
        "                  alpha = c(0.01, seq(0, 1, 0.25),0.99), nlambda = 250, \n",
        "                  ncore = NULL, seed = 33){\n",
        "  \n",
        "  # set up parallel compute cluster\n",
        "  if(is.null(ncore)){\n",
        "    \n",
        "    # set amount of cores to the max available and leave one out\n",
        "    ncore <- parallel::detectCores() - 1\n",
        "    \n",
        "    # we parallelize over folds - the maximum number of occupied cores should thus be\n",
        "    ncore <- min(ncore, length(families))\n",
        "    \n",
        "  } else {\n",
        "    \n",
        "    # find min of ncore and folds\n",
        "    ncore <- min(ncore, length(families))\n",
        "    \n",
        "  }\n",
        "\n",
        "  # set up cluster\n",
        "  clust <- parallel::makeCluster(ncore, outfile = \"\")\n",
        "\n",
        "  # print cores that will be occupied\n",
        "  cat(paste0(length(clust), \" cores will be occupied by this process!\"))\n",
        "  \n",
        "  # set cluster enviroment to function enviroment\n",
        "  parallel::clusterExport(cl = clust,\n",
        "                          varlist = c(\"data\"),\n",
        "                          envir = environment())\n",
        "  \n",
        "  \n",
        "  # loop over families\n",
        "  parallel::parLapply(clust, families, \\(fam){\n",
        "    \n",
        "    # seed\n",
        "    set.seed(seed)\n",
        "    \n",
        "    # cross validation\n",
        "    glmnetUtils::cva.glmnet(formula, data = data,\n",
        "                            family = fam,\n",
        "                            type.measure = type_measure, nfolds = nfolds,\n",
        "                            alpha = alpha,\n",
        "                            nlambda = nlambda)\n",
        "      \n",
        "  }) |> setNames(names(families)) -> tmp\n",
        "  \n",
        "  # release cores \n",
        "  on.exit(parallel::stopCluster(clust), add = TRUE)\n",
        "  \n",
        "  # return\n",
        "  return(tmp)\n",
        "}"
      ],
      "metadata": {
        "id": "8F7f-B8UxnPm"
      },
      "execution_count": 4,
      "outputs": []
    },
    {
      "cell_type": "code",
      "source": [
        "# R\n",
        "%%R\n",
        "\n",
        "# families\n",
        "fams <- list(\"Gaus_ident\" = gaussian(link = \"identity\"),\n",
        "             \"Gaus_log\" = gaussian(link = \"log\"),\n",
        "             \"Gaus_inv\" = gaussian(link = \"inverse\"),\n",
        "             \"Gam_ident\" = Gamma(link = \"identity\"),\n",
        "             \"Gam_log\" = Gamma(link = \"log\"),\n",
        "             \"Gam_ident\" = Gamma(link = \"identity\"))\n",
        "\n",
        "# Run CV\n",
        "CV_disglmnet(Winning_Bid ~., data = dat_aucs_mod[[\"Train\"]], families = fams,\n",
        "             nlambda = 500, alpha = c(0.01, seq(0, 1, 0.05),0.99)) -> res\n",
        "\n",
        "# write into gDrive\n",
        "saveRDS(res, \"drive/MyDrive/Master_Thesis/Models_MT/CV_elastic_net.RDS\")"
      ],
      "metadata": {
        "id": "eHH3HmyLxsF3"
      },
      "execution_count": null,
      "outputs": []
    },
    {
      "cell_type": "code",
      "source": [
        "# unmount gdrive\n",
        "drive.flush_and_unmount()"
      ],
      "metadata": {
        "id": "BT1x9Z9HyY9e"
      },
      "execution_count": null,
      "outputs": []
    }
  ]
}